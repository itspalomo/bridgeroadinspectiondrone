{
 "cells": [
  {
   "cell_type": "code",
   "execution_count": 3,
   "metadata": {},
   "outputs": [],
   "source": [
    "from matplotlib import pyplot as plt\n",
    "%matplotlib inline  \n",
    "import seaborn as sns\n",
    "import math\n",
    "import cv2\n",
    "import numpy as np"
   ]
  },
  {
   "cell_type": "code",
   "execution_count": 4,
   "metadata": {},
   "outputs": [],
   "source": [
    "\n",
    "sns.set_theme(style=\"white\", palette=\"pastel\")"
   ]
  },
  {
   "cell_type": "code",
   "execution_count": 5,
   "metadata": {},
   "outputs": [],
   "source": [
    "def edgeDetectSobel(path):\n",
    "    img = cv2.imread(f'{path}', cv2.IMREAD_COLOR)\n",
    "\n",
    "    # Convert to graycsale\n",
    "    img_gray = cv2.cvtColor(img, cv2.COLOR_BGR2GRAY)\n",
    "    img_gray = cv2.cvtColor(img_gray, cv2.COLOR_BGR2RGB)\n",
    "\n",
    "    # Blur the image for better edge detection\n",
    "    img_blur = cv2.GaussianBlur(img_gray, (3,3), 0)\n",
    "\n",
    "    # Sobel Edge Detection\n",
    "    sobelx = cv2.Sobel(src=img_blur, ddepth=cv2.CV_64F, dx=1, dy=0, ksize=5) # Sobel Edge Detection on the X axis\n",
    "    sobely = cv2.Sobel(src=img_blur, ddepth=cv2.CV_64F, dx=0, dy=1, ksize=5) # Sobel Edge Detection on the Y axis\n",
    "    sobelxy = cv2.Sobel(src=img_blur, ddepth=cv2.CV_64F, dx=1, dy=1, ksize=5) # Combined X and Y Sobel Edge Detection\n",
    "    \n",
    "    # Canny Edge Detection\n",
    "    edges = cv2.Canny(image=img_blur, threshold1=100, threshold2=200) # Canny Edge Detection\n",
    "    edges = cv2.cvtColor(edges, cv2.COLOR_BGR2RGB)\n",
    "\n",
    "    return edges, sobelx, sobely, sobelxy, img\n"
   ]
  },
  {
   "cell_type": "code",
   "execution_count": 6,
   "metadata": {},
   "outputs": [],
   "source": [
    "def edgeDetectLaplace(path):\n",
    "    ddepth = cv2.CV_16S\n",
    "    kernel_size = 3\n",
    "    \n",
    "    im=cv2.imread(f'{path}', cv2.IMREAD_COLOR)\n",
    "    if im is None:\n",
    "        print ('Error opening image')\n",
    "        print ('Program Arguments: [image_name -- default lena.jpg]')\n",
    "        return -1\n",
    "    # Remove noise by blurring with a Gaussian filter\n",
    "    #im = cv2.GaussianBlur(im, (3, 3), 0)\n",
    "    # Laplace on a gray scale picture\n",
    "    img_gray = cv2.cvtColor(im, cv2.COLOR_BGR2GRAY)\n",
    "    # Blur the image for better edge detection\n",
    "    img_blur = cv2.GaussianBlur(img_gray, (3,3), 0)\n",
    "\n",
    "    img_blur = cv2.cvtColor(img_gray, cv2.COLOR_BGR2RGB)\n",
    "\n",
    "    # Apply Laplace function\n",
    "    dst = cv2.Laplacian(img_blur, ddepth, ksize=kernel_size)\n",
    "    \n",
    "    # converting back to uint8\n",
    "    colorlaplace = cv2.convertScaleAbs(dst)\n",
    "\n",
    "\n",
    "    return colorlaplace\n",
    "\n",
    "\n"
   ]
  },
  {
   "cell_type": "code",
   "execution_count": 7,
   "metadata": {},
   "outputs": [],
   "source": [
    "#path to images, may be different depending and where they are saved on your machine\n",
    "path = 'images/dsnamed/RO09.jpg'\n",
    "edge = edgeDetectSobel(path)\n",
    "edge2 = edgeDetectLaplace(path)\n",
    "canny = edge[0]\n",
    "sobelx = edge[1]\n",
    "sobely = edge[2]\n",
    "sobelxy = edge[3]\n",
    "original = edge[4]\n",
    "laplace = edge2"
   ]
  },
  {
   "cell_type": "code",
   "execution_count": 8,
   "metadata": {},
   "outputs": [],
   "source": [
    "\n",
    "def test1():\n",
    "    f, ax = plt.subplots(1,6)\n",
    "    f.set_figheight(25)\n",
    "    f.set_figwidth(25)\n",
    "\n",
    "    ax[0].imshow(canny)\n",
    "    ax[0].set_title('Canny')\n",
    "\n",
    "    ax[1].imshow(sobelx)\n",
    "    ax[1].set_title('SobelX')\n",
    "\n",
    "    ax[2].imshow(sobely)\n",
    "    ax[2].set_title('SobelY')\n",
    "\n",
    "    ax[3].imshow(sobelxy)\n",
    "    ax[3].set_title('SobelXY')\n",
    "\n",
    "    ax[4].imshow(laplace)\n",
    "    ax[4].set_title('Laplace')\n",
    "\n",
    "    ax[5].imshow(cv2.cvtColor(original, cv2.COLOR_BGR2RGB))\n",
    "    ax[5].set_title('Original')\n",
    "\n",
    "\n"
   ]
  },
  {
   "cell_type": "code",
   "execution_count": 9,
   "metadata": {},
   "outputs": [],
   "source": [
    "def main(PATH):\n",
    "\n",
    "    #start streaming video\n",
    "    vs = cv2.VideoCapture(PATH)\n",
    "    \n",
    "    while True:\n",
    "        ret,frame = vs.read()\n",
    "        cv2.startWindowThread()\n",
    "        if not ret:\n",
    "            break\n",
    "        (h, w) = frame.shape[:2] #w:image-width and h:image-height\n",
    "        img = cv2.cvtColor(frame, cv2.COLOR_BGR2GRAY)\n",
    "        img_blur = cv2.GaussianBlur(img, (3,3), 0)\n",
    "        edge = cv2.Canny(img_blur,300,350)\n",
    "        \n",
    "        lines =cv2.HoughLinesP(edge, rho = 1, theta = 1*np.pi/180, threshold = 100, minLineLength = 170, maxLineGap = 10)\n",
    "   \n",
    "        try:\n",
    "            for i in lines:\n",
    "                x1,x2,y1,y2 = i[0]\n",
    "                cv2.line(frame,(x1,x2), (y1,y2), (0,255,0),3)\n",
    "        except:\n",
    "            cv2.putText(frame, 'No Line Detected', (h//2, w//2), cv2.FONT_HERSHEY_SIMPLEX,5, (0, 0, 255), 20, cv2.LINE_AA)\n",
    "\n",
    "        try:\n",
    "            cv2.imshow(\"media\", frame)\n",
    "        except:\n",
    "            break\n",
    "\n",
    "        cv2.waitKey(1)\n",
    "\n",
    "    vs.release()\n",
    "    cv2.waitKey(1)\n",
    "    cv2.destroyAllWindows()\n",
    "    cv2.waitKey(1)"
   ]
  },
  {
   "cell_type": "code",
   "execution_count": 11,
   "metadata": {},
   "outputs": [],
   "source": [
    "main('Sample_Road_Videos/Road5.mp4')"
   ]
  },
  {
   "cell_type": "code",
   "execution_count": null,
   "metadata": {},
   "outputs": [],
   "source": []
  }
 ],
 "metadata": {
  "kernelspec": {
   "display_name": "Python 3.9.12 ('env_tf')",
   "language": "python",
   "name": "python3"
  },
  "language_info": {
   "codemirror_mode": {
    "name": "ipython",
    "version": 3
   },
   "file_extension": ".py",
   "mimetype": "text/x-python",
   "name": "python",
   "nbconvert_exporter": "python",
   "pygments_lexer": "ipython3",
   "version": "3.9.12"
  },
  "orig_nbformat": 4,
  "vscode": {
   "interpreter": {
    "hash": "bbfaabf1ad3d951837b27f150f7f7113bf5efd4d08e7ae546a3458bfe66a2e1e"
   }
  }
 },
 "nbformat": 4,
 "nbformat_minor": 2
}
