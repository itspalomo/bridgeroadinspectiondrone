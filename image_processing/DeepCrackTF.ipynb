{
 "cells": [
  {
   "cell_type": "code",
   "execution_count": null,
   "metadata": {},
   "outputs": [],
   "source": []
  }
 ],
 "metadata": {
  "kernelspec": {
   "display_name": "Python 3.9.12 ('env_tf')",
   "language": "python",
   "name": "python3"
  },
  "language_info": {
   "name": "python",
   "version": "3.9.12"
  },
  "orig_nbformat": 4,
  "vscode": {
   "interpreter": {
    "hash": "bbfaabf1ad3d951837b27f150f7f7113bf5efd4d08e7ae546a3458bfe66a2e1e"
   }
  }
 },
 "nbformat": 4,
 "nbformat_minor": 2
}
