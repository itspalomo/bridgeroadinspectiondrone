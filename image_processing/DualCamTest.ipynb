{
 "cells": [
  {
   "cell_type": "code",
   "execution_count": 9,
   "metadata": {},
   "outputs": [],
   "source": [
    "from PIL import Image\n",
    "import cv2\n",
    "import numpy as np\n",
    "import time\n",
    "import os"
   ]
  },
  {
   "cell_type": "code",
   "execution_count": 14,
   "metadata": {},
   "outputs": [],
   "source": [
    "def get_ir_image(save_path=\"/home/ubuntu/ros2_ws/bridgeroadinspectiondrone/image_processing/ir.png\"):\n",
    "    # save to png to preserve the 16 bit depth of IR image\n",
    "    # !gst-launch-1.0 v4l2src device=/dev/video1 num-buffers=1 ! video/x-raw,format=GRAY8 ! videoscale ! video/x-raw,width=800,height=600 ! videoconvert ! pngenc ! filesink location=/tmp/ir.png\n",
    "    # !gst-launch-1.0 v4l2src device=/dev/video1 num-buffers=1 ! video/x-raw,format=GRAY16_LE ! videoscale ! video/x-raw,width=800,height=600 ! videoconvert ! pngenc ! filesink location=/tmp/ir.png\n",
    "    !gst-launch-1.0 v4l2src device=/dev/video0 num-buffers=1 ! video/x-raw,format=GRAY16_LE ! videoconvert ! pngenc ! filesink location=\"$save_path\"\n",
    "\n",
    "    return Image.open(save_path)"
   ]
  },
  {
   "cell_type": "code",
   "execution_count": 3,
   "metadata": {},
   "outputs": [],
   "source": [
    "#every 5s until keyboard interrup, pi will take a picture\n",
    "def cam_test(cam_path: int, time_s: int, fname: str):\n",
    "    cap = cv2.VideoCapture(cam_path)\n",
    "    start = int(time.time())\n",
    "    i = 0\n",
    "    while(cap.isOpened()):\n",
    "        ret, frame = cap.read()\n",
    "        \n",
    "        # This condition prevents from infinite looping\n",
    "        # incase video ends.\n",
    "        if (ret == False) or (int(time.time()) - start >= 10):\n",
    "            break\n",
    "        \n",
    "        # Save Frame by Frame into disk using imwrite method\n",
    "        cv2.imwrite(fname+str(i)+'.jpg', frame)\n",
    "        i += 1\n",
    "        time.sleep(time_s)\n",
    "    cv2.waitKey(1)\n",
    "    cap.release()\n",
    "    cv2.waitKey(1)"
   ]
  },
  {
   "cell_type": "code",
   "execution_count": 2,
   "metadata": {},
   "outputs": [],
   "source": [
    "#every 5s until keyboard interrup, pi will take a picture\n",
    "def cam_ind_test(cam_path: str, count: int, fname: str):\n",
    "    cap = cv2.VideoCapture(cam_path, cv2.CAP_GSTREAMER)\n",
    "    \n",
    "    i = 0\n",
    "    if (not cap.isOpened()):\n",
    "        print('Not opened')\n",
    "\n",
    "    while(cap.isOpened()):\n",
    "        ret, frame = cap.read()\n",
    "        \n",
    "        # This condition prevents from infinite looping\n",
    "        # incase video ends.\n",
    "        if (ret == False) or (i > count):\n",
    "            print('ret is False')\n",
    "            break\n",
    "        \n",
    "        # Save Frame by Frame into disk using imwrite method\n",
    "        cv2.imwrite(fname+str(i)+'.jpg', frame)\n",
    "        i += 1\n",
    "    cv2.waitKey(1)\n",
    "    cap.release()\n",
    "    cv2.waitKey(1)"
   ]
  },
  {
   "cell_type": "code",
   "execution_count": null,
   "metadata": {},
   "outputs": [],
   "source": [
    "def data_collection(cam_path: int, count: int, fname: str):\n",
    "    cap = cv2.VideoCapture(cam_path, cv2.CAP_V4L2)\n",
    "    \n",
    "    i = 0\n",
    "\n",
    "    while(cap.isOpened()):\n",
    "        ret, frame = cap.read()\n",
    "        \n",
    "        # This condition prevents from infinite looping\n",
    "        # incase video ends.\n",
    "        if (ret == False):\n",
    "            print('ret is False')\n",
    "            break\n",
    "        \n",
    "        # Save Frame by Frame into disk using imwrite method\n",
    "        cv2.imwrite(fname+str(i)+'.jpg', frame)\n",
    "        i += 1"
   ]
  }
 ],
 "metadata": {
  "kernelspec": {
   "display_name": "Python 3.8.9 64-bit",
   "language": "python",
   "name": "python3"
  },
  "language_info": {
   "codemirror_mode": {
    "name": "ipython",
    "version": 3
   },
   "file_extension": ".py",
   "mimetype": "text/x-python",
   "name": "python",
   "nbconvert_exporter": "python",
   "pygments_lexer": "ipython3",
   "version": "3.8.10"
  },
  "orig_nbformat": 4,
  "vscode": {
   "interpreter": {
    "hash": "31f2aee4e71d21fbe5cf8b01ff0e069b9275f58929596ceb00d14d90e3e16cd6"
   }
  }
 },
 "nbformat": 4,
 "nbformat_minor": 2
}
