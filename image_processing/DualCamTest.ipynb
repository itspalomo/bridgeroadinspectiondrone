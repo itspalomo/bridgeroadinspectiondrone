{
 "cells": [
  {
   "cell_type": "code",
   "execution_count": 1,
   "metadata": {},
   "outputs": [],
   "source": [
    "import cv2\n",
    "import numpy as np\n",
    "import time"
   ]
  },
  {
   "cell_type": "code",
   "execution_count": 3,
   "metadata": {},
   "outputs": [],
   "source": [
    "#every 5s until keyboard interrup, pi will take a picture\n",
    "def cam_test(cam_path: int, time_s: int, fname: str):\n",
    "    cap = cv2.VideoCapture(cam_path)\n",
    "    start = int(time.time())\n",
    "    i = 0\n",
    "    while(cap.isOpened()):\n",
    "        ret, frame = cap.read()\n",
    "        \n",
    "        # This condition prevents from infinite looping\n",
    "        # incase video ends.\n",
    "        if (ret == False) or (int(time.time()) - start >= 10):\n",
    "            break\n",
    "        \n",
    "        # Save Frame by Frame into disk using imwrite method\n",
    "        cv2.imwrite(fname+str(i)+'.jpg', frame)\n",
    "        i += 1\n",
    "        time.sleep(time_s)\n",
    "    cv2.waitKey(1)\n",
    "    cap.release()\n",
    "    cv2.waitKey(1)"
   ]
  },
  {
   "cell_type": "code",
   "execution_count": 11,
   "metadata": {},
   "outputs": [],
   "source": [
    "#every 5s until keyboard interrup, pi will take a picture\n",
    "def cam_ind_test(cam_path: int, count: int, fname: str):\n",
    "    cap = cv2.VideoCapture(cam_path, cv2.CAP_V4L2)\n",
    "    \n",
    "    i = 0\n",
    "    if (not cap.isOpened()):\n",
    "        print('Not opened')\n",
    "\n",
    "    while(cap.isOpened()):\n",
    "        ret, frame = cap.read()\n",
    "        \n",
    "        # This condition prevents from infinite looping\n",
    "        # incase video ends.\n",
    "        if (ret == False) or (i > count):\n",
    "            print('ret is False')\n",
    "            break\n",
    "        \n",
    "        # Save Frame by Frame into disk using imwrite method\n",
    "        cv2.imwrite(fname+str(i)+'.jpg', frame)\n",
    "        i += 1\n",
    "    cv2.waitKey(1)\n",
    "    cap.release()\n",
    "    cv2.waitKey(1)"
   ]
  },
  {
   "cell_type": "code",
   "execution_count": 12,
   "metadata": {},
   "outputs": [
    {
     "name": "stdout",
     "output_type": "stream",
     "text": [
      "ret is False\n"
     ]
    },
    {
     "name": "stderr",
     "output_type": "stream",
     "text": [
      "[ WARN:0] global ../modules/videoio/src/cap_v4l.cpp (998) tryIoctl VIDEOIO(V4L2:/dev/video0): select() timeout.\n"
     ]
    }
   ],
   "source": [
    "cam_ind_test(0,5, 'vl')"
   ]
  },
  {
   "cell_type": "code",
   "execution_count": null,
   "metadata": {},
   "outputs": [],
   "source": []
  }
 ],
 "metadata": {
  "kernelspec": {
   "display_name": "Python 3.8.9 64-bit",
   "language": "python",
   "name": "python3"
  },
  "language_info": {
   "codemirror_mode": {
    "name": "ipython",
    "version": 3
   },
   "file_extension": ".py",
   "mimetype": "text/x-python",
   "name": "python",
   "nbconvert_exporter": "python",
   "pygments_lexer": "ipython3",
   "version": "3.8.10"
  },
  "orig_nbformat": 4,
  "vscode": {
   "interpreter": {
    "hash": "31f2aee4e71d21fbe5cf8b01ff0e069b9275f58929596ceb00d14d90e3e16cd6"
   }
  }
 },
 "nbformat": 4,
 "nbformat_minor": 2
}
